{
 "cells": [
  {
   "cell_type": "code",
   "execution_count": 62,
   "id": "d24a101a",
   "metadata": {},
   "outputs": [],
   "source": [
    "import plotly.graph_objects as go\n",
    "import pandas as pd\n"
   ]
  },
  {
   "cell_type": "code",
   "execution_count": 63,
   "id": "ee1c1a04",
   "metadata": {},
   "outputs": [],
   "source": [
    "data = pd.read_csv(\"Combined_crash.csv\")"
   ]
  },
  {
   "cell_type": "code",
   "execution_count": 64,
   "id": "5ce7656b",
   "metadata": {},
   "outputs": [
    {
     "data": {
      "text/html": [
       "<div>\n",
       "<style scoped>\n",
       "    .dataframe tbody tr th:only-of-type {\n",
       "        vertical-align: middle;\n",
       "    }\n",
       "\n",
       "    .dataframe tbody tr th {\n",
       "        vertical-align: top;\n",
       "    }\n",
       "\n",
       "    .dataframe thead th {\n",
       "        text-align: right;\n",
       "    }\n",
       "</style>\n",
       "<table border=\"1\" class=\"dataframe\">\n",
       "  <thead>\n",
       "    <tr style=\"text-align: right;\">\n",
       "      <th></th>\n",
       "      <th>Crash_Number</th>\n",
       "      <th>City_Town_Name</th>\n",
       "      <th>Crash_Date</th>\n",
       "      <th>Crash_Time</th>\n",
       "      <th>Crash_Severity</th>\n",
       "      <th>Maximum_Injury_Severity_Reported</th>\n",
       "      <th>Number_of_Vehicles</th>\n",
       "      <th>Total_Nonfatal_Injuries</th>\n",
       "      <th>Total_Fatal_Injuries</th>\n",
       "      <th>Manner_of_Collision</th>\n",
       "      <th>...</th>\n",
       "      <th>Ambient_Light</th>\n",
       "      <th>Weather_Condition</th>\n",
       "      <th>At_Roadway_Intersection</th>\n",
       "      <th>Distance_From_Nearest_Roadway_Intersection</th>\n",
       "      <th>Distance_From_Nearest_Milemarker</th>\n",
       "      <th>Distance_From_Nearest_Exit</th>\n",
       "      <th>Distance_From_Nearest_Landmark</th>\n",
       "      <th>Non_Motorist_Type</th>\n",
       "      <th>X_Cooordinate</th>\n",
       "      <th>Y_Cooordinate</th>\n",
       "    </tr>\n",
       "  </thead>\n",
       "  <tbody>\n",
       "    <tr>\n",
       "      <th>0</th>\n",
       "      <td>4486779</td>\n",
       "      <td>CAMBRIDGE</td>\n",
       "      <td>01-Jan-2018</td>\n",
       "      <td>3:45 AM</td>\n",
       "      <td>Property damage only (none injured)</td>\n",
       "      <td>No injury</td>\n",
       "      <td>2</td>\n",
       "      <td>0</td>\n",
       "      <td>0</td>\n",
       "      <td>Angle</td>\n",
       "      <td>...</td>\n",
       "      <td>Dark - lighted roadway</td>\n",
       "      <td>Clear</td>\n",
       "      <td>FRESH POND PARKWAY / BRATTLE STREET /</td>\n",
       "      <td>FRESH POND PARKWAY / BRATTLE STREET /</td>\n",
       "      <td>NaN</td>\n",
       "      <td>NaN</td>\n",
       "      <td>NaN</td>\n",
       "      <td>NaN</td>\n",
       "      <td>229587.796941</td>\n",
       "      <td>902911.687410</td>\n",
       "    </tr>\n",
       "    <tr>\n",
       "      <th>1</th>\n",
       "      <td>4482195</td>\n",
       "      <td>CAMBRIDGE</td>\n",
       "      <td>01-Jan-2018</td>\n",
       "      <td>5:11 AM</td>\n",
       "      <td>Non-fatal injury</td>\n",
       "      <td>Non-fatal injury - Non-incapacitating</td>\n",
       "      <td>2</td>\n",
       "      <td>1</td>\n",
       "      <td>0</td>\n",
       "      <td>Rear-end</td>\n",
       "      <td>...</td>\n",
       "      <td>Dark - lighted roadway</td>\n",
       "      <td>Other</td>\n",
       "      <td>NaN</td>\n",
       "      <td>MASSACHUSETTS AVENUE / AMHERST STREET</td>\n",
       "      <td>NaN</td>\n",
       "      <td>NaN</td>\n",
       "      <td>NaN</td>\n",
       "      <td>NaN</td>\n",
       "      <td>233487.179661</td>\n",
       "      <td>901017.897931</td>\n",
       "    </tr>\n",
       "    <tr>\n",
       "      <th>2</th>\n",
       "      <td>4492670</td>\n",
       "      <td>CAMBRIDGE</td>\n",
       "      <td>01-Jan-2018</td>\n",
       "      <td>7:58 AM</td>\n",
       "      <td>Property damage only (none injured)</td>\n",
       "      <td>No injury</td>\n",
       "      <td>1</td>\n",
       "      <td>0</td>\n",
       "      <td>0</td>\n",
       "      <td>Single vehicle crash</td>\n",
       "      <td>...</td>\n",
       "      <td>Daylight</td>\n",
       "      <td>Clear</td>\n",
       "      <td>RAMP-RTS 3 SB/2 EB (MEM DR) TO RT 2 Rte 3A E</td>\n",
       "      <td>RAMP-RTS 3 SB/2 EB (MEM DR) TO RT 2 Rte 3A E</td>\n",
       "      <td>NaN</td>\n",
       "      <td>NaN</td>\n",
       "      <td>RAMP TO REID ROTARY</td>\n",
       "      <td>NaN</td>\n",
       "      <td>231904.957612</td>\n",
       "      <td>900595.416581</td>\n",
       "    </tr>\n",
       "    <tr>\n",
       "      <th>3</th>\n",
       "      <td>4477598</td>\n",
       "      <td>CAMBRIDGE</td>\n",
       "      <td>01-Jan-2018</td>\n",
       "      <td>11:16 AM</td>\n",
       "      <td>Property damage only (none injured)</td>\n",
       "      <td>No injury</td>\n",
       "      <td>2</td>\n",
       "      <td>0</td>\n",
       "      <td>0</td>\n",
       "      <td>Angle</td>\n",
       "      <td>...</td>\n",
       "      <td>Daylight</td>\n",
       "      <td>Clear</td>\n",
       "      <td>CHESTNUT STREET / PLEASANT STREET</td>\n",
       "      <td>CHESTNUT STREET / PLEASANT STREET</td>\n",
       "      <td>NaN</td>\n",
       "      <td>NaN</td>\n",
       "      <td>NaN</td>\n",
       "      <td>NaN</td>\n",
       "      <td>231833.937359</td>\n",
       "      <td>901062.687472</td>\n",
       "    </tr>\n",
       "    <tr>\n",
       "      <th>4</th>\n",
       "      <td>4489949</td>\n",
       "      <td>CAMBRIDGE</td>\n",
       "      <td>01-Jan-2018</td>\n",
       "      <td>9:42 PM</td>\n",
       "      <td>Property damage only (none injured)</td>\n",
       "      <td>No injury</td>\n",
       "      <td>1</td>\n",
       "      <td>0</td>\n",
       "      <td>0</td>\n",
       "      <td>Single vehicle crash</td>\n",
       "      <td>...</td>\n",
       "      <td>Dark - unknown roadway lighting</td>\n",
       "      <td>Clear</td>\n",
       "      <td>ORCHARD STREET / TENNEY STREET</td>\n",
       "      <td>ORCHARD STREET / TENNEY STREET</td>\n",
       "      <td>NaN</td>\n",
       "      <td>NaN</td>\n",
       "      <td>NaN</td>\n",
       "      <td>NaN</td>\n",
       "      <td>231150.825422</td>\n",
       "      <td>904721.967860</td>\n",
       "    </tr>\n",
       "  </tbody>\n",
       "</table>\n",
       "<p>5 rows × 25 columns</p>\n",
       "</div>"
      ],
      "text/plain": [
       "   Crash_Number City_Town_Name   Crash_Date Crash_Time  \\\n",
       "0       4486779      CAMBRIDGE  01-Jan-2018    3:45 AM   \n",
       "1       4482195      CAMBRIDGE  01-Jan-2018    5:11 AM   \n",
       "2       4492670      CAMBRIDGE  01-Jan-2018    7:58 AM   \n",
       "3       4477598      CAMBRIDGE  01-Jan-2018   11:16 AM   \n",
       "4       4489949      CAMBRIDGE  01-Jan-2018    9:42 PM   \n",
       "\n",
       "                        Crash_Severity       Maximum_Injury_Severity_Reported  \\\n",
       "0  Property damage only (none injured)                              No injury   \n",
       "1                     Non-fatal injury  Non-fatal injury - Non-incapacitating   \n",
       "2  Property damage only (none injured)                              No injury   \n",
       "3  Property damage only (none injured)                              No injury   \n",
       "4  Property damage only (none injured)                              No injury   \n",
       "\n",
       "   Number_of_Vehicles  Total_Nonfatal_Injuries  Total_Fatal_Injuries  \\\n",
       "0                   2                        0                     0   \n",
       "1                   2                        1                     0   \n",
       "2                   1                        0                     0   \n",
       "3                   2                        0                     0   \n",
       "4                   1                        0                     0   \n",
       "\n",
       "    Manner_of_Collision  ...                    Ambient_Light  \\\n",
       "0                 Angle  ...           Dark - lighted roadway   \n",
       "1              Rear-end  ...           Dark - lighted roadway   \n",
       "2  Single vehicle crash  ...                         Daylight   \n",
       "3                 Angle  ...                         Daylight   \n",
       "4  Single vehicle crash  ...  Dark - unknown roadway lighting   \n",
       "\n",
       "  Weather_Condition                       At_Roadway_Intersection  \\\n",
       "0             Clear         FRESH POND PARKWAY / BRATTLE STREET /   \n",
       "1             Other                                           NaN   \n",
       "2             Clear  RAMP-RTS 3 SB/2 EB (MEM DR) TO RT 2 Rte 3A E   \n",
       "3             Clear             CHESTNUT STREET / PLEASANT STREET   \n",
       "4             Clear                ORCHARD STREET / TENNEY STREET   \n",
       "\n",
       "     Distance_From_Nearest_Roadway_Intersection  \\\n",
       "0         FRESH POND PARKWAY / BRATTLE STREET /   \n",
       "1         MASSACHUSETTS AVENUE / AMHERST STREET   \n",
       "2  RAMP-RTS 3 SB/2 EB (MEM DR) TO RT 2 Rte 3A E   \n",
       "3             CHESTNUT STREET / PLEASANT STREET   \n",
       "4                ORCHARD STREET / TENNEY STREET   \n",
       "\n",
       "  Distance_From_Nearest_Milemarker Distance_From_Nearest_Exit  \\\n",
       "0                              NaN                        NaN   \n",
       "1                              NaN                        NaN   \n",
       "2                              NaN                        NaN   \n",
       "3                              NaN                        NaN   \n",
       "4                              NaN                        NaN   \n",
       "\n",
       "  Distance_From_Nearest_Landmark Non_Motorist_Type  X_Cooordinate  \\\n",
       "0                            NaN               NaN  229587.796941   \n",
       "1                            NaN               NaN  233487.179661   \n",
       "2            RAMP TO REID ROTARY               NaN  231904.957612   \n",
       "3                            NaN               NaN  231833.937359   \n",
       "4                            NaN               NaN  231150.825422   \n",
       "\n",
       "   Y_Cooordinate  \n",
       "0  902911.687410  \n",
       "1  901017.897931  \n",
       "2  900595.416581  \n",
       "3  901062.687472  \n",
       "4  904721.967860  \n",
       "\n",
       "[5 rows x 25 columns]"
      ]
     },
     "execution_count": 64,
     "metadata": {},
     "output_type": "execute_result"
    }
   ],
   "source": [
    "data.head()"
   ]
  },
  {
   "cell_type": "code",
   "execution_count": 65,
   "id": "afbbcc46",
   "metadata": {},
   "outputs": [],
   "source": [
    "def _code_mapping(df, src, targ):\n",
    "    \"\"\" Helper method used by make_sankey.\n",
    "    (Not to be called outside of this library)\n",
    "    \"\"\"\n",
    "    # Get the distinct labels\n",
    "    labels = list(set(df[src]).union(set(df[targ])))\n",
    "\n",
    "    # Generate integer codes\n",
    "    codes = list(range(len(labels)))\n",
    "\n",
    "    # Create a label-to-code mapping\n",
    "    lc_map = dict(zip(labels, codes))\n",
    "\n",
    "    # Substitute labels for codes in the dataframe\n",
    "    df = df.replace({src: lc_map, targ: lc_map})\n",
    "\n",
    "    return df, labels\n"
   ]
  },
  {
   "cell_type": "code",
   "execution_count": 66,
   "id": "9505392b",
   "metadata": {},
   "outputs": [],
   "source": [
    "def make_sankey(df, *cols, vals=None, dropdown_col=None, **kwargs):\n",
    "    \"\"\"\n",
    "    Generates a Sankey diagram, optionally with an embedded dropdown filter.\n",
    "\n",
    "    :param df: Input pandas DataFrame\n",
    "    :param cols: Column names representing categorical steps\n",
    "    :param vals: Name of the column representing flow values\n",
    "    :param dropdown_col: Optional column name to add as a dropdown filter (e.g., 'Manner_of_Collision')\n",
    "    :param kwargs: Reserved for future flexibility\n",
    "    \"\"\"\n",
    "    if vals is None:\n",
    "        raise ValueError(\"You must specify the 'vals' argument for flow values.\")\n",
    "    \n",
    "    def generate_trace(sub_df):\n",
    "        # Convert each step in the chain to Source-Target pairs\n",
    "        data_frames = []\n",
    "        for i in range(len(cols) - 1):\n",
    "            src, tgt = cols[i], cols[i + 1]\n",
    "            temp = sub_df[[src, tgt, vals]].rename(columns={src: \"Source\", tgt: \"Target\", vals: \"Values\"})\n",
    "            data_frames.append(temp)\n",
    "\n",
    "        # Combine all source target value pairs and aggregate their values\n",
    "        sankey_data = pd.concat(data_frames).groupby([\"Source\", \"Target\"], as_index=False).sum()\n",
    "\n",
    "        # Maps the categorical labels to numerical codes for Sankey format\n",
    "        sankey_data, labels = _code_mapping(sankey_data, \"Source\", \"Target\")\n",
    "        return sankey_data, labels\n",
    "\n",
    "    # If no dropdown — just show one full Sankey diagram\n",
    "    if dropdown_col is None:\n",
    "        sankey_data, labels = generate_trace(df)\n",
    "        link = dict(\n",
    "            source=sankey_data[\"Source\"],\n",
    "            target=sankey_data[\"Target\"],\n",
    "            value=sankey_data[\"Values\"],\n",
    "            color=\"#FF6347\"  # light red links\n",
    "        )\n",
    "        node = dict(\n",
    "            label=labels,\n",
    "            color=[\"#FF6347\"] * len(labels)  \n",
    "        )\n",
    "        fig = go.Figure(go.Sankey(link=link, node=node))\n",
    "        fig.update_layout(title_text=\"Sankey Diagram\", font_size=12)\n",
    "        fig.show()\n",
    "        return\n",
    "\n",
    "    # Dropdown mode — gets the filtered versions for each unique value\n",
    "    unique_values = sorted(df[dropdown_col].dropna().unique())\n",
    "    traces = []\n",
    "    labels_list = []\n",
    "\n",
    "    for val in unique_values:\n",
    "        sub_df = df[df[dropdown_col] == val]\n",
    "        sankey_data, labels = generate_trace(sub_df)\n",
    "        traces.append(sankey_data)\n",
    "        labels_list.append(labels)\n",
    "\n",
    "    # dropdown for the Sankey\n",
    "    initial = 0\n",
    "    fig = go.Figure(go.Sankey(\n",
    "        node=dict(\n",
    "            label=labels_list[initial],\n",
    "            # makes them a specific shade of red\n",
    "            color=[\"#FF6347\"] * len(labels_list[initial])  \n",
    "        ),\n",
    "        link=dict(\n",
    "            source=traces[initial]['Source'],\n",
    "            target=traces[initial]['Target'],\n",
    "            value=traces[initial]['Values'],\n",
    "            color=\"lightgray\"  # links neutral by default\n",
    "        )\n",
    "    ))\n",
    "\n",
    "    # Dropdown buttons for switching categories\n",
    "    buttons = []\n",
    "    for i, val in enumerate(unique_values):\n",
    "        buttons.append(dict(\n",
    "            label=val,\n",
    "            method=\"update\",\n",
    "            args=[\n",
    "                {\n",
    "                    \"link.source\": [traces[i]['Source']],\n",
    "                    \"link.target\": [traces[i]['Target']],\n",
    "                    \"link.value\": [traces[i]['Values']],\n",
    "                    \n",
    "                     # consistent neutral link color\n",
    "                    \"link.color\": [\"lightgray\"], \n",
    "                    \"node.label\": [labels_list[i]],\n",
    "                    \"node.color\": [[\"#FF6347\"] * len(labels_list[i])]\n",
    "                },\n",
    "                {\"title\": f\"Sankey Diagram — {dropdown_col}: {val}\"}\n",
    "            ]\n",
    "        ))\n",
    "\n",
    "    # Layout styling and positioning for dropdown\n",
    "    fig.update_layout(\n",
    "        title_text=f\"Sankey Diagram — {dropdown_col}: {unique_values[initial]}\",\n",
    "        font_size=12,\n",
    "        updatemenus=[dict(\n",
    "            buttons=buttons,\n",
    "            direction=\"down\",\n",
    "            showactive=True,\n",
    "            x=1.1,\n",
    "            y=1.15,\n",
    "            xanchor='left',\n",
    "            yanchor='top'\n",
    "        )]\n",
    "    )\n",
    "\n",
    "    fig.show()\n"
   ]
  },
  {
   "cell_type": "code",
   "execution_count": 67,
   "id": "c4d87c8d",
   "metadata": {},
   "outputs": [],
   "source": [
    "# city population dictionary\n",
    "city_pops = {\n",
    "    'BOSTON': 675000,\n",
    "    'CAMBRIDGE': 118000,\n",
    "    'SOMERVILLE': 81000\n",
    "}\n"
   ]
  },
  {
   "cell_type": "code",
   "execution_count": 68,
   "id": "4c852e3e",
   "metadata": {},
   "outputs": [],
   "source": [
    "# Apply scaled weights based on population\n",
    "data['Scaled_Weight'] = (\n",
    "    1 / data['City_Town_Name'].map(city_pops) * 10000\n",
    ")"
   ]
  },
  {
   "cell_type": "code",
   "execution_count": 69,
   "id": "5dd48379",
   "metadata": {},
   "outputs": [
    {
     "data": {
      "application/vnd.plotly.v1+json": {
       "config": {
        "plotlyServerURL": "https://plot.ly"
       },
       "data": [
        {
         "link": {
          "color": "lightgray",
          "source": [
           8,
           8,
           8,
           8,
           8,
           3,
           5,
           1
          ],
          "target": [
           4,
           0,
           7,
           2,
           6,
           8,
           8,
           8
          ],
          "value": [
           0.9760200878844947,
           158.464867127014,
           11.041222012973424,
           303.74120108809376,
           17.346223059217408,
           80.01481481481481,
           242.54237288135593,
           169.01234567901233
          ]
         },
         "node": {
          "color": [
           "#FF6347",
           "#FF6347",
           "#FF6347",
           "#FF6347",
           "#FF6347",
           "#FF6347",
           "#FF6347",
           "#FF6347",
           "#FF6347"
          ],
          "label": [
           "Non-fatal injury",
           "SOMERVILLE",
           "Property damage only (none injured)",
           "BOSTON",
           "Fatal injury",
           "CAMBRIDGE",
           "Unknown",
           "Not Reported",
           "Angle"
          ]
         },
         "type": "sankey"
        }
       ],
       "layout": {
        "font": {
         "size": 12
        },
        "template": {
         "data": {
          "bar": [
           {
            "error_x": {
             "color": "#2a3f5f"
            },
            "error_y": {
             "color": "#2a3f5f"
            },
            "marker": {
             "line": {
              "color": "#E5ECF6",
              "width": 0.5
             },
             "pattern": {
              "fillmode": "overlay",
              "size": 10,
              "solidity": 0.2
             }
            },
            "type": "bar"
           }
          ],
          "barpolar": [
           {
            "marker": {
             "line": {
              "color": "#E5ECF6",
              "width": 0.5
             },
             "pattern": {
              "fillmode": "overlay",
              "size": 10,
              "solidity": 0.2
             }
            },
            "type": "barpolar"
           }
          ],
          "carpet": [
           {
            "aaxis": {
             "endlinecolor": "#2a3f5f",
             "gridcolor": "white",
             "linecolor": "white",
             "minorgridcolor": "white",
             "startlinecolor": "#2a3f5f"
            },
            "baxis": {
             "endlinecolor": "#2a3f5f",
             "gridcolor": "white",
             "linecolor": "white",
             "minorgridcolor": "white",
             "startlinecolor": "#2a3f5f"
            },
            "type": "carpet"
           }
          ],
          "choropleth": [
           {
            "colorbar": {
             "outlinewidth": 0,
             "ticks": ""
            },
            "type": "choropleth"
           }
          ],
          "contour": [
           {
            "colorbar": {
             "outlinewidth": 0,
             "ticks": ""
            },
            "colorscale": [
             [
              0,
              "#0d0887"
             ],
             [
              0.1111111111111111,
              "#46039f"
             ],
             [
              0.2222222222222222,
              "#7201a8"
             ],
             [
              0.3333333333333333,
              "#9c179e"
             ],
             [
              0.4444444444444444,
              "#bd3786"
             ],
             [
              0.5555555555555556,
              "#d8576b"
             ],
             [
              0.6666666666666666,
              "#ed7953"
             ],
             [
              0.7777777777777778,
              "#fb9f3a"
             ],
             [
              0.8888888888888888,
              "#fdca26"
             ],
             [
              1,
              "#f0f921"
             ]
            ],
            "type": "contour"
           }
          ],
          "contourcarpet": [
           {
            "colorbar": {
             "outlinewidth": 0,
             "ticks": ""
            },
            "type": "contourcarpet"
           }
          ],
          "heatmap": [
           {
            "colorbar": {
             "outlinewidth": 0,
             "ticks": ""
            },
            "colorscale": [
             [
              0,
              "#0d0887"
             ],
             [
              0.1111111111111111,
              "#46039f"
             ],
             [
              0.2222222222222222,
              "#7201a8"
             ],
             [
              0.3333333333333333,
              "#9c179e"
             ],
             [
              0.4444444444444444,
              "#bd3786"
             ],
             [
              0.5555555555555556,
              "#d8576b"
             ],
             [
              0.6666666666666666,
              "#ed7953"
             ],
             [
              0.7777777777777778,
              "#fb9f3a"
             ],
             [
              0.8888888888888888,
              "#fdca26"
             ],
             [
              1,
              "#f0f921"
             ]
            ],
            "type": "heatmap"
           }
          ],
          "heatmapgl": [
           {
            "colorbar": {
             "outlinewidth": 0,
             "ticks": ""
            },
            "colorscale": [
             [
              0,
              "#0d0887"
             ],
             [
              0.1111111111111111,
              "#46039f"
             ],
             [
              0.2222222222222222,
              "#7201a8"
             ],
             [
              0.3333333333333333,
              "#9c179e"
             ],
             [
              0.4444444444444444,
              "#bd3786"
             ],
             [
              0.5555555555555556,
              "#d8576b"
             ],
             [
              0.6666666666666666,
              "#ed7953"
             ],
             [
              0.7777777777777778,
              "#fb9f3a"
             ],
             [
              0.8888888888888888,
              "#fdca26"
             ],
             [
              1,
              "#f0f921"
             ]
            ],
            "type": "heatmapgl"
           }
          ],
          "histogram": [
           {
            "marker": {
             "pattern": {
              "fillmode": "overlay",
              "size": 10,
              "solidity": 0.2
             }
            },
            "type": "histogram"
           }
          ],
          "histogram2d": [
           {
            "colorbar": {
             "outlinewidth": 0,
             "ticks": ""
            },
            "colorscale": [
             [
              0,
              "#0d0887"
             ],
             [
              0.1111111111111111,
              "#46039f"
             ],
             [
              0.2222222222222222,
              "#7201a8"
             ],
             [
              0.3333333333333333,
              "#9c179e"
             ],
             [
              0.4444444444444444,
              "#bd3786"
             ],
             [
              0.5555555555555556,
              "#d8576b"
             ],
             [
              0.6666666666666666,
              "#ed7953"
             ],
             [
              0.7777777777777778,
              "#fb9f3a"
             ],
             [
              0.8888888888888888,
              "#fdca26"
             ],
             [
              1,
              "#f0f921"
             ]
            ],
            "type": "histogram2d"
           }
          ],
          "histogram2dcontour": [
           {
            "colorbar": {
             "outlinewidth": 0,
             "ticks": ""
            },
            "colorscale": [
             [
              0,
              "#0d0887"
             ],
             [
              0.1111111111111111,
              "#46039f"
             ],
             [
              0.2222222222222222,
              "#7201a8"
             ],
             [
              0.3333333333333333,
              "#9c179e"
             ],
             [
              0.4444444444444444,
              "#bd3786"
             ],
             [
              0.5555555555555556,
              "#d8576b"
             ],
             [
              0.6666666666666666,
              "#ed7953"
             ],
             [
              0.7777777777777778,
              "#fb9f3a"
             ],
             [
              0.8888888888888888,
              "#fdca26"
             ],
             [
              1,
              "#f0f921"
             ]
            ],
            "type": "histogram2dcontour"
           }
          ],
          "mesh3d": [
           {
            "colorbar": {
             "outlinewidth": 0,
             "ticks": ""
            },
            "type": "mesh3d"
           }
          ],
          "parcoords": [
           {
            "line": {
             "colorbar": {
              "outlinewidth": 0,
              "ticks": ""
             }
            },
            "type": "parcoords"
           }
          ],
          "pie": [
           {
            "automargin": true,
            "type": "pie"
           }
          ],
          "scatter": [
           {
            "fillpattern": {
             "fillmode": "overlay",
             "size": 10,
             "solidity": 0.2
            },
            "type": "scatter"
           }
          ],
          "scatter3d": [
           {
            "line": {
             "colorbar": {
              "outlinewidth": 0,
              "ticks": ""
             }
            },
            "marker": {
             "colorbar": {
              "outlinewidth": 0,
              "ticks": ""
             }
            },
            "type": "scatter3d"
           }
          ],
          "scattercarpet": [
           {
            "marker": {
             "colorbar": {
              "outlinewidth": 0,
              "ticks": ""
             }
            },
            "type": "scattercarpet"
           }
          ],
          "scattergeo": [
           {
            "marker": {
             "colorbar": {
              "outlinewidth": 0,
              "ticks": ""
             }
            },
            "type": "scattergeo"
           }
          ],
          "scattergl": [
           {
            "marker": {
             "colorbar": {
              "outlinewidth": 0,
              "ticks": ""
             }
            },
            "type": "scattergl"
           }
          ],
          "scattermapbox": [
           {
            "marker": {
             "colorbar": {
              "outlinewidth": 0,
              "ticks": ""
             }
            },
            "type": "scattermapbox"
           }
          ],
          "scatterpolar": [
           {
            "marker": {
             "colorbar": {
              "outlinewidth": 0,
              "ticks": ""
             }
            },
            "type": "scatterpolar"
           }
          ],
          "scatterpolargl": [
           {
            "marker": {
             "colorbar": {
              "outlinewidth": 0,
              "ticks": ""
             }
            },
            "type": "scatterpolargl"
           }
          ],
          "scatterternary": [
           {
            "marker": {
             "colorbar": {
              "outlinewidth": 0,
              "ticks": ""
             }
            },
            "type": "scatterternary"
           }
          ],
          "surface": [
           {
            "colorbar": {
             "outlinewidth": 0,
             "ticks": ""
            },
            "colorscale": [
             [
              0,
              "#0d0887"
             ],
             [
              0.1111111111111111,
              "#46039f"
             ],
             [
              0.2222222222222222,
              "#7201a8"
             ],
             [
              0.3333333333333333,
              "#9c179e"
             ],
             [
              0.4444444444444444,
              "#bd3786"
             ],
             [
              0.5555555555555556,
              "#d8576b"
             ],
             [
              0.6666666666666666,
              "#ed7953"
             ],
             [
              0.7777777777777778,
              "#fb9f3a"
             ],
             [
              0.8888888888888888,
              "#fdca26"
             ],
             [
              1,
              "#f0f921"
             ]
            ],
            "type": "surface"
           }
          ],
          "table": [
           {
            "cells": {
             "fill": {
              "color": "#EBF0F8"
             },
             "line": {
              "color": "white"
             }
            },
            "header": {
             "fill": {
              "color": "#C8D4E3"
             },
             "line": {
              "color": "white"
             }
            },
            "type": "table"
           }
          ]
         },
         "layout": {
          "annotationdefaults": {
           "arrowcolor": "#2a3f5f",
           "arrowhead": 0,
           "arrowwidth": 1
          },
          "autotypenumbers": "strict",
          "coloraxis": {
           "colorbar": {
            "outlinewidth": 0,
            "ticks": ""
           }
          },
          "colorscale": {
           "diverging": [
            [
             0,
             "#8e0152"
            ],
            [
             0.1,
             "#c51b7d"
            ],
            [
             0.2,
             "#de77ae"
            ],
            [
             0.3,
             "#f1b6da"
            ],
            [
             0.4,
             "#fde0ef"
            ],
            [
             0.5,
             "#f7f7f7"
            ],
            [
             0.6,
             "#e6f5d0"
            ],
            [
             0.7,
             "#b8e186"
            ],
            [
             0.8,
             "#7fbc41"
            ],
            [
             0.9,
             "#4d9221"
            ],
            [
             1,
             "#276419"
            ]
           ],
           "sequential": [
            [
             0,
             "#0d0887"
            ],
            [
             0.1111111111111111,
             "#46039f"
            ],
            [
             0.2222222222222222,
             "#7201a8"
            ],
            [
             0.3333333333333333,
             "#9c179e"
            ],
            [
             0.4444444444444444,
             "#bd3786"
            ],
            [
             0.5555555555555556,
             "#d8576b"
            ],
            [
             0.6666666666666666,
             "#ed7953"
            ],
            [
             0.7777777777777778,
             "#fb9f3a"
            ],
            [
             0.8888888888888888,
             "#fdca26"
            ],
            [
             1,
             "#f0f921"
            ]
           ],
           "sequentialminus": [
            [
             0,
             "#0d0887"
            ],
            [
             0.1111111111111111,
             "#46039f"
            ],
            [
             0.2222222222222222,
             "#7201a8"
            ],
            [
             0.3333333333333333,
             "#9c179e"
            ],
            [
             0.4444444444444444,
             "#bd3786"
            ],
            [
             0.5555555555555556,
             "#d8576b"
            ],
            [
             0.6666666666666666,
             "#ed7953"
            ],
            [
             0.7777777777777778,
             "#fb9f3a"
            ],
            [
             0.8888888888888888,
             "#fdca26"
            ],
            [
             1,
             "#f0f921"
            ]
           ]
          },
          "colorway": [
           "#636efa",
           "#EF553B",
           "#00cc96",
           "#ab63fa",
           "#FFA15A",
           "#19d3f3",
           "#FF6692",
           "#B6E880",
           "#FF97FF",
           "#FECB52"
          ],
          "font": {
           "color": "#2a3f5f"
          },
          "geo": {
           "bgcolor": "white",
           "lakecolor": "white",
           "landcolor": "#E5ECF6",
           "showlakes": true,
           "showland": true,
           "subunitcolor": "white"
          },
          "hoverlabel": {
           "align": "left"
          },
          "hovermode": "closest",
          "mapbox": {
           "style": "light"
          },
          "paper_bgcolor": "white",
          "plot_bgcolor": "#E5ECF6",
          "polar": {
           "angularaxis": {
            "gridcolor": "white",
            "linecolor": "white",
            "ticks": ""
           },
           "bgcolor": "#E5ECF6",
           "radialaxis": {
            "gridcolor": "white",
            "linecolor": "white",
            "ticks": ""
           }
          },
          "scene": {
           "xaxis": {
            "backgroundcolor": "#E5ECF6",
            "gridcolor": "white",
            "gridwidth": 2,
            "linecolor": "white",
            "showbackground": true,
            "ticks": "",
            "zerolinecolor": "white"
           },
           "yaxis": {
            "backgroundcolor": "#E5ECF6",
            "gridcolor": "white",
            "gridwidth": 2,
            "linecolor": "white",
            "showbackground": true,
            "ticks": "",
            "zerolinecolor": "white"
           },
           "zaxis": {
            "backgroundcolor": "#E5ECF6",
            "gridcolor": "white",
            "gridwidth": 2,
            "linecolor": "white",
            "showbackground": true,
            "ticks": "",
            "zerolinecolor": "white"
           }
          },
          "shapedefaults": {
           "line": {
            "color": "#2a3f5f"
           }
          },
          "ternary": {
           "aaxis": {
            "gridcolor": "white",
            "linecolor": "white",
            "ticks": ""
           },
           "baxis": {
            "gridcolor": "white",
            "linecolor": "white",
            "ticks": ""
           },
           "bgcolor": "#E5ECF6",
           "caxis": {
            "gridcolor": "white",
            "linecolor": "white",
            "ticks": ""
           }
          },
          "title": {
           "x": 0.05
          },
          "xaxis": {
           "automargin": true,
           "gridcolor": "white",
           "linecolor": "white",
           "ticks": "",
           "title": {
            "standoff": 15
           },
           "zerolinecolor": "white",
           "zerolinewidth": 2
          },
          "yaxis": {
           "automargin": true,
           "gridcolor": "white",
           "linecolor": "white",
           "ticks": "",
           "title": {
            "standoff": 15
           },
           "zerolinecolor": "white",
           "zerolinewidth": 2
          }
         }
        },
        "title": {
         "text": "Sankey Diagram — Manner_of_Collision: Angle"
        },
        "updatemenus": [
         {
          "buttons": [
           {
            "args": [
             {
              "link.color": [
               "lightgray"
              ],
              "link.source": [
               [
                8,
                8,
                8,
                8,
                8,
                3,
                5,
                1
               ]
              ],
              "link.target": [
               [
                4,
                0,
                7,
                2,
                6,
                8,
                8,
                8
               ]
              ],
              "link.value": [
               [
                0.9760200878844947,
                158.464867127014,
                11.041222012973424,
                303.74120108809376,
                17.346223059217408,
                80.01481481481481,
                242.54237288135593,
                169.01234567901233
               ]
              ],
              "node.color": [
               [
                "#FF6347",
                "#FF6347",
                "#FF6347",
                "#FF6347",
                "#FF6347",
                "#FF6347",
                "#FF6347",
                "#FF6347",
                "#FF6347"
               ]
              ],
              "node.label": [
               [
                "Non-fatal injury",
                "SOMERVILLE",
                "Property damage only (none injured)",
                "BOSTON",
                "Fatal injury",
                "CAMBRIDGE",
                "Unknown",
                "Not Reported",
                "Angle"
               ]
              ]
             },
             {
              "title": "Sankey Diagram — Manner_of_Collision: Angle"
             }
            ],
            "label": "Angle",
            "method": "update"
           },
           {
            "args": [
             {
              "link.color": [
               "lightgray"
              ],
              "link.source": [
               [
                3,
                4,
                0,
                0,
                0,
                0,
                2
               ]
              ],
              "link.target": [
               [
                0,
                0,
                1,
                6,
                7,
                5,
                0
               ]
              ],
              "link.value": [
               [
                7.274074074074075,
                0.0847457627118644,
                2.325925925925926,
                0.4,
                3.0526469972797656,
                1.7037037037037037,
                0.12345679012345678
               ]
              ],
              "node.color": [
               [
                "#FF6347",
                "#FF6347",
                "#FF6347",
                "#FF6347",
                "#FF6347",
                "#FF6347",
                "#FF6347",
                "#FF6347"
               ]
              ],
              "node.label": [
               [
                "Front to Front",
                "Non-fatal injury",
                "SOMERVILLE",
                "BOSTON",
                "CAMBRIDGE",
                "Unknown",
                "Not Reported",
                "Property damage only (none injured)"
               ]
              ]
             },
             {
              "title": "Sankey Diagram — Manner_of_Collision: Front to Front"
             }
            ],
            "label": "Front to Front",
            "method": "update"
           },
           {
            "args": [
             {
              "link.color": [
               "lightgray"
              ],
              "link.source": [
               [
                2,
                4,
                0,
                0,
                0,
                0,
                0
               ]
              ],
              "link.target": [
               [
                0,
                0,
                3,
                1,
                6,
                7,
                5
               ]
              ],
              "link.value": [
               [
                9.837037037037037,
                0.3389830508474576,
                0.014814814814814815,
                2.7472693032015068,
                0.4,
                4.806528562460766,
                2.2074074074074077
               ]
              ],
              "node.color": [
               [
                "#FF6347",
                "#FF6347",
                "#FF6347",
                "#FF6347",
                "#FF6347",
                "#FF6347",
                "#FF6347",
                "#FF6347"
               ]
              ],
              "node.label": [
               [
                "Front to Rear",
                "Non-fatal injury",
                "BOSTON",
                "Fatal injury",
                "CAMBRIDGE",
                "Unknown",
                "Not Reported",
                "Property damage only (none injured)"
               ]
              ]
             },
             {
              "title": "Sankey Diagram — Manner_of_Collision: Front to Rear"
             }
            ],
            "label": "Front to Rear",
            "method": "update"
           },
           {
            "args": [
             {
              "link.color": [
               "lightgray"
              ],
              "link.source": [
               [
                3,
                5,
                2,
                2,
                2,
                2,
                2,
                1
               ]
              ],
              "link.target": [
               [
                2,
                2,
                4,
                0,
                7,
                8,
                6,
                2
               ]
              ],
              "link.value": [
               [
                12.814814814814815,
                25.677966101694913,
                0.5234567901234568,
                31.48558275789914,
                1.1020297133291483,
                30.880895584850386,
                2.4020506382088302,
                27.901234567901234
               ]
              ],
              "node.color": [
               [
                "#FF6347",
                "#FF6347",
                "#FF6347",
                "#FF6347",
                "#FF6347",
                "#FF6347",
                "#FF6347",
                "#FF6347",
                "#FF6347"
               ]
              ],
              "node.label": [
               [
                "Non-fatal injury",
                "SOMERVILLE",
                "Head-on",
                "BOSTON",
                "Fatal injury",
                "CAMBRIDGE",
                "Unknown",
                "Not Reported",
                "Property damage only (none injured)"
               ]
              ]
             },
             {
              "title": "Sankey Diagram — Manner_of_Collision: Head-on"
             }
            ],
            "label": "Head-on",
            "method": "update"
           },
           {
            "args": [
             {
              "link.color": [
               "lightgray"
              ],
              "link.source": [
               [
                3,
                5,
                2,
                2,
                2,
                2,
                2,
                1
               ]
              ],
              "link.target": [
               [
                2,
                2,
                4,
                0,
                7,
                8,
                6,
                2
               ]
              ],
              "link.value": [
               [
                26.133333333333333,
                0.6779661016949152,
                0.5884494664155681,
                8.55053358443189,
                0.32592592592592595,
                13.67231638418079,
                5.77283950617284,
                2.0987654320987654
               ]
              ],
              "node.color": [
               [
                "#FF6347",
                "#FF6347",
                "#FF6347",
                "#FF6347",
                "#FF6347",
                "#FF6347",
                "#FF6347",
                "#FF6347",
                "#FF6347"
               ]
              ],
              "node.label": [
               [
                "Non-fatal injury",
                "SOMERVILLE",
                "Not reported",
                "BOSTON",
                "Fatal injury",
                "CAMBRIDGE",
                "Unknown",
                "Not Reported",
                "Property damage only (none injured)"
               ]
              ]
             },
             {
              "title": "Sankey Diagram — Manner_of_Collision: Not reported"
             }
            ],
            "label": "Not reported",
            "method": "update"
           },
           {
            "args": [
             {
              "link.color": [
               "lightgray"
              ],
              "link.source": [
               [
                3,
                0,
                0,
                0,
                0
               ]
              ],
              "link.target": [
               [
                0,
                1,
                4,
                5,
                2
               ]
              ],
              "link.value": [
               [
                1.348148148148148,
                0.2962962962962963,
                0.014814814814814815,
                0.7407407407407408,
                0.2962962962962963
               ]
              ],
              "node.color": [
               [
                "#FF6347",
                "#FF6347",
                "#FF6347",
                "#FF6347",
                "#FF6347",
                "#FF6347"
               ]
              ],
              "node.label": [
               [
                "Rear to Side",
                "Non-fatal injury",
                "Unknown",
                "BOSTON",
                "Not Reported",
                "Property damage only (none injured)"
               ]
              ]
             },
             {
              "title": "Sankey Diagram — Manner_of_Collision: Rear to Side"
             }
            ],
            "label": "Rear to Side",
            "method": "update"
           },
           {
            "args": [
             {
              "link.color": [
               "lightgray"
              ],
              "link.source": [
               [
                2,
                4,
                8,
                8,
                8,
                8,
                8,
                1
               ]
              ],
              "link.target": [
               [
                8,
                8,
                3,
                0,
                6,
                7,
                5,
                8
               ]
              ],
              "link.value": [
               [
                169.11111111111111,
                158.72881355932202,
                0.08888888888888889,
                119.68244402594685,
                7.098932831136221,
                340.2996442770454,
                18.43297761037874,
                157.77777777777777
               ]
              ],
              "node.color": [
               [
                "#FF6347",
                "#FF6347",
                "#FF6347",
                "#FF6347",
                "#FF6347",
                "#FF6347",
                "#FF6347",
                "#FF6347",
                "#FF6347"
               ]
              ],
              "node.label": [
               [
                "Non-fatal injury",
                "SOMERVILLE",
                "BOSTON",
                "Fatal injury",
                "CAMBRIDGE",
                "Unknown",
                "Not Reported",
                "Property damage only (none injured)",
                "Rear-end"
               ]
              ]
             },
             {
              "title": "Sankey Diagram — Manner_of_Collision: Rear-end"
             }
            ],
            "label": "Rear-end",
            "method": "update"
           },
           {
            "args": [
             {
              "link.color": [
               "lightgray"
              ],
              "link.source": [
               [
                3,
                4,
                1,
                1,
                1,
                1,
                2
               ]
              ],
              "link.target": [
               [
                1,
                1,
                0,
                6,
                7,
                5,
                1
               ]
              ],
              "link.value": [
               [
                1.8814814814814815,
                7.033898305084746,
                2.1709144172421007,
                0.09956057752667921,
                9.308558275789913,
                1.1635070098346934,
                3.82716049382716
               ]
              ],
              "node.color": [
               [
                "#FF6347",
                "#FF6347",
                "#FF6347",
                "#FF6347",
                "#FF6347",
                "#FF6347",
                "#FF6347",
                "#FF6347"
               ]
              ],
              "node.label": [
               [
                "Non-fatal injury",
                "Rear-to-rear",
                "SOMERVILLE",
                "BOSTON",
                "CAMBRIDGE",
                "Unknown",
                "Not Reported",
                "Property damage only (none injured)"
               ]
              ]
             },
             {
              "title": "Sankey Diagram — Manner_of_Collision: Rear-to-rear"
             }
            ],
            "label": "Rear-to-rear",
            "method": "update"
           },
           {
            "args": [
             {
              "link.color": [
               "lightgray"
              ],
              "link.source": [
               [
                3,
                5,
                1,
                2,
                2,
                2,
                2,
                2
               ]
              ],
              "link.target": [
               [
                2,
                2,
                2,
                4,
                0,
                7,
                8,
                6
               ]
              ],
              "link.value": [
               [
                10.488888888888889,
                28.135593220338983,
                17.65432098765432,
                0.014814814814814815,
                11.436492990165306,
                1.830968821929274,
                36.79204854572086,
                6.204477924251935
               ]
              ],
              "node.color": [
               [
                "#FF6347",
                "#FF6347",
                "#FF6347",
                "#FF6347",
                "#FF6347",
                "#FF6347",
                "#FF6347",
                "#FF6347",
                "#FF6347"
               ]
              ],
              "node.label": [
               [
                "Non-fatal injury",
                "SOMERVILLE",
                "Sideswipe, opposite direction",
                "BOSTON",
                "Fatal injury",
                "CAMBRIDGE",
                "Unknown",
                "Not Reported",
                "Property damage only (none injured)"
               ]
              ]
             },
             {
              "title": "Sankey Diagram — Manner_of_Collision: Sideswipe, opposite direction"
             }
            ],
            "label": "Sideswipe, opposite direction",
            "method": "update"
           },
           {
            "args": [
             {
              "link.color": [
               "lightgray"
              ],
              "link.source": [
               [
                2,
                4,
                1,
                6,
                6,
                6,
                6,
                6
               ]
              ],
              "link.target": [
               [
                6,
                6,
                6,
                3,
                0,
                7,
                8,
                5
               ]
              ],
              "link.value": [
               [
                92.37037037037038,
                240.9322033898305,
                112.34567901234567,
                0.15881983678593847,
                54.437706633186856,
                25.67964009206947,
                315.88918183720443,
                49.34463276836158
               ]
              ],
              "node.color": [
               [
                "#FF6347",
                "#FF6347",
                "#FF6347",
                "#FF6347",
                "#FF6347",
                "#FF6347",
                "#FF6347",
                "#FF6347",
                "#FF6347"
               ]
              ],
              "node.label": [
               [
                "Non-fatal injury",
                "SOMERVILLE",
                "BOSTON",
                "Fatal injury",
                "CAMBRIDGE",
                "Unknown",
                "Sideswipe, same direction",
                "Not Reported",
                "Property damage only (none injured)"
               ]
              ]
             },
             {
              "title": "Sankey Diagram — Manner_of_Collision: Sideswipe, same direction"
             }
            ],
            "label": "Sideswipe, same direction",
            "method": "update"
           },
           {
            "args": [
             {
              "link.color": [
               "lightgray"
              ],
              "link.source": [
               [
                3,
                5,
                2,
                0,
                0,
                0,
                0,
                0
               ]
              ],
              "link.target": [
               [
                0,
                0,
                0,
                4,
                1,
                7,
                8,
                6
               ]
              ],
              "link.value": [
               [
                91.17037037037038,
                109.06779661016948,
                105.30864197530863,
                1.8779661016949152,
                107.86888470391295,
                6.842644904791797,
                173.43435865243774,
                15.52295459301109
               ]
              ],
              "node.color": [
               [
                "#FF6347",
                "#FF6347",
                "#FF6347",
                "#FF6347",
                "#FF6347",
                "#FF6347",
                "#FF6347",
                "#FF6347",
                "#FF6347"
               ]
              ],
              "node.label": [
               [
                "Single vehicle crash",
                "Non-fatal injury",
                "SOMERVILLE",
                "BOSTON",
                "Fatal injury",
                "CAMBRIDGE",
                "Unknown",
                "Not Reported",
                "Property damage only (none injured)"
               ]
              ]
             },
             {
              "title": "Sankey Diagram — Manner_of_Collision: Single vehicle crash"
             }
            ],
            "label": "Single vehicle crash",
            "method": "update"
           },
           {
            "args": [
             {
              "link.color": [
               "lightgray"
              ],
              "link.source": [
               [
                2,
                4,
                1,
                5,
                5,
                5,
                5,
                5
               ]
              ],
              "link.target": [
               [
                5,
                5,
                5,
                3,
                0,
                6,
                7,
                5
               ]
              ],
              "link.value": [
               [
                5.911111111111111,
                91.69491525423729,
                8.148148148148147,
                0.014814814814814815,
                9.10387110274116,
                25.769742623979912,
                30.688093743460975,
                40.17765222849968
               ]
              ],
              "node.color": [
               [
                "#FF6347",
                "#FF6347",
                "#FF6347",
                "#FF6347",
                "#FF6347",
                "#FF6347",
                "#FF6347",
                "#FF6347"
               ]
              ],
              "node.label": [
               [
                "Non-fatal injury",
                "SOMERVILLE",
                "BOSTON",
                "Fatal injury",
                "CAMBRIDGE",
                "Unknown",
                "Not Reported",
                "Property damage only (none injured)"
               ]
              ]
             },
             {
              "title": "Sankey Diagram — Manner_of_Collision: Unknown"
             }
            ],
            "label": "Unknown",
            "method": "update"
           }
          ],
          "direction": "down",
          "showactive": true,
          "x": 1.1,
          "xanchor": "left",
          "y": 1.15,
          "yanchor": "top"
         }
        ]
       }
      },
      "text/html": [
       "<div>                            <div id=\"7dc0f232-5179-4135-945c-2a5ed2e87a90\" class=\"plotly-graph-div\" style=\"height:525px; width:100%;\"></div>            <script type=\"text/javascript\">                require([\"plotly\"], function(Plotly) {                    window.PLOTLYENV=window.PLOTLYENV || {};                                    if (document.getElementById(\"7dc0f232-5179-4135-945c-2a5ed2e87a90\")) {                    Plotly.newPlot(                        \"7dc0f232-5179-4135-945c-2a5ed2e87a90\",                        [{\"link\":{\"color\":\"lightgray\",\"source\":[8,8,8,8,8,3,5,1],\"target\":[4,0,7,2,6,8,8,8],\"value\":[0.9760200878844947,158.464867127014,11.041222012973424,303.74120108809376,17.346223059217408,80.01481481481481,242.54237288135593,169.01234567901233]},\"node\":{\"color\":[\"#FF6347\",\"#FF6347\",\"#FF6347\",\"#FF6347\",\"#FF6347\",\"#FF6347\",\"#FF6347\",\"#FF6347\",\"#FF6347\"],\"label\":[\"Non-fatal injury\",\"SOMERVILLE\",\"Property damage only (none injured)\",\"BOSTON\",\"Fatal injury\",\"CAMBRIDGE\",\"Unknown\",\"Not Reported\",\"Angle\"]},\"type\":\"sankey\"}],                        {\"template\":{\"data\":{\"histogram2dcontour\":[{\"type\":\"histogram2dcontour\",\"colorbar\":{\"outlinewidth\":0,\"ticks\":\"\"},\"colorscale\":[[0.0,\"#0d0887\"],[0.1111111111111111,\"#46039f\"],[0.2222222222222222,\"#7201a8\"],[0.3333333333333333,\"#9c179e\"],[0.4444444444444444,\"#bd3786\"],[0.5555555555555556,\"#d8576b\"],[0.6666666666666666,\"#ed7953\"],[0.7777777777777778,\"#fb9f3a\"],[0.8888888888888888,\"#fdca26\"],[1.0,\"#f0f921\"]]}],\"choropleth\":[{\"type\":\"choropleth\",\"colorbar\":{\"outlinewidth\":0,\"ticks\":\"\"}}],\"histogram2d\":[{\"type\":\"histogram2d\",\"colorbar\":{\"outlinewidth\":0,\"ticks\":\"\"},\"colorscale\":[[0.0,\"#0d0887\"],[0.1111111111111111,\"#46039f\"],[0.2222222222222222,\"#7201a8\"],[0.3333333333333333,\"#9c179e\"],[0.4444444444444444,\"#bd3786\"],[0.5555555555555556,\"#d8576b\"],[0.6666666666666666,\"#ed7953\"],[0.7777777777777778,\"#fb9f3a\"],[0.8888888888888888,\"#fdca26\"],[1.0,\"#f0f921\"]]}],\"heatmap\":[{\"type\":\"heatmap\",\"colorbar\":{\"outlinewidth\":0,\"ticks\":\"\"},\"colorscale\":[[0.0,\"#0d0887\"],[0.1111111111111111,\"#46039f\"],[0.2222222222222222,\"#7201a8\"],[0.3333333333333333,\"#9c179e\"],[0.4444444444444444,\"#bd3786\"],[0.5555555555555556,\"#d8576b\"],[0.6666666666666666,\"#ed7953\"],[0.7777777777777778,\"#fb9f3a\"],[0.8888888888888888,\"#fdca26\"],[1.0,\"#f0f921\"]]}],\"heatmapgl\":[{\"type\":\"heatmapgl\",\"colorbar\":{\"outlinewidth\":0,\"ticks\":\"\"},\"colorscale\":[[0.0,\"#0d0887\"],[0.1111111111111111,\"#46039f\"],[0.2222222222222222,\"#7201a8\"],[0.3333333333333333,\"#9c179e\"],[0.4444444444444444,\"#bd3786\"],[0.5555555555555556,\"#d8576b\"],[0.6666666666666666,\"#ed7953\"],[0.7777777777777778,\"#fb9f3a\"],[0.8888888888888888,\"#fdca26\"],[1.0,\"#f0f921\"]]}],\"contourcarpet\":[{\"type\":\"contourcarpet\",\"colorbar\":{\"outlinewidth\":0,\"ticks\":\"\"}}],\"contour\":[{\"type\":\"contour\",\"colorbar\":{\"outlinewidth\":0,\"ticks\":\"\"},\"colorscale\":[[0.0,\"#0d0887\"],[0.1111111111111111,\"#46039f\"],[0.2222222222222222,\"#7201a8\"],[0.3333333333333333,\"#9c179e\"],[0.4444444444444444,\"#bd3786\"],[0.5555555555555556,\"#d8576b\"],[0.6666666666666666,\"#ed7953\"],[0.7777777777777778,\"#fb9f3a\"],[0.8888888888888888,\"#fdca26\"],[1.0,\"#f0f921\"]]}],\"surface\":[{\"type\":\"surface\",\"colorbar\":{\"outlinewidth\":0,\"ticks\":\"\"},\"colorscale\":[[0.0,\"#0d0887\"],[0.1111111111111111,\"#46039f\"],[0.2222222222222222,\"#7201a8\"],[0.3333333333333333,\"#9c179e\"],[0.4444444444444444,\"#bd3786\"],[0.5555555555555556,\"#d8576b\"],[0.6666666666666666,\"#ed7953\"],[0.7777777777777778,\"#fb9f3a\"],[0.8888888888888888,\"#fdca26\"],[1.0,\"#f0f921\"]]}],\"mesh3d\":[{\"type\":\"mesh3d\",\"colorbar\":{\"outlinewidth\":0,\"ticks\":\"\"}}],\"scatter\":[{\"fillpattern\":{\"fillmode\":\"overlay\",\"size\":10,\"solidity\":0.2},\"type\":\"scatter\"}],\"parcoords\":[{\"type\":\"parcoords\",\"line\":{\"colorbar\":{\"outlinewidth\":0,\"ticks\":\"\"}}}],\"scatterpolargl\":[{\"type\":\"scatterpolargl\",\"marker\":{\"colorbar\":{\"outlinewidth\":0,\"ticks\":\"\"}}}],\"bar\":[{\"error_x\":{\"color\":\"#2a3f5f\"},\"error_y\":{\"color\":\"#2a3f5f\"},\"marker\":{\"line\":{\"color\":\"#E5ECF6\",\"width\":0.5},\"pattern\":{\"fillmode\":\"overlay\",\"size\":10,\"solidity\":0.2}},\"type\":\"bar\"}],\"scattergeo\":[{\"type\":\"scattergeo\",\"marker\":{\"colorbar\":{\"outlinewidth\":0,\"ticks\":\"\"}}}],\"scatterpolar\":[{\"type\":\"scatterpolar\",\"marker\":{\"colorbar\":{\"outlinewidth\":0,\"ticks\":\"\"}}}],\"histogram\":[{\"marker\":{\"pattern\":{\"fillmode\":\"overlay\",\"size\":10,\"solidity\":0.2}},\"type\":\"histogram\"}],\"scattergl\":[{\"type\":\"scattergl\",\"marker\":{\"colorbar\":{\"outlinewidth\":0,\"ticks\":\"\"}}}],\"scatter3d\":[{\"type\":\"scatter3d\",\"line\":{\"colorbar\":{\"outlinewidth\":0,\"ticks\":\"\"}},\"marker\":{\"colorbar\":{\"outlinewidth\":0,\"ticks\":\"\"}}}],\"scattermapbox\":[{\"type\":\"scattermapbox\",\"marker\":{\"colorbar\":{\"outlinewidth\":0,\"ticks\":\"\"}}}],\"scatterternary\":[{\"type\":\"scatterternary\",\"marker\":{\"colorbar\":{\"outlinewidth\":0,\"ticks\":\"\"}}}],\"scattercarpet\":[{\"type\":\"scattercarpet\",\"marker\":{\"colorbar\":{\"outlinewidth\":0,\"ticks\":\"\"}}}],\"carpet\":[{\"aaxis\":{\"endlinecolor\":\"#2a3f5f\",\"gridcolor\":\"white\",\"linecolor\":\"white\",\"minorgridcolor\":\"white\",\"startlinecolor\":\"#2a3f5f\"},\"baxis\":{\"endlinecolor\":\"#2a3f5f\",\"gridcolor\":\"white\",\"linecolor\":\"white\",\"minorgridcolor\":\"white\",\"startlinecolor\":\"#2a3f5f\"},\"type\":\"carpet\"}],\"table\":[{\"cells\":{\"fill\":{\"color\":\"#EBF0F8\"},\"line\":{\"color\":\"white\"}},\"header\":{\"fill\":{\"color\":\"#C8D4E3\"},\"line\":{\"color\":\"white\"}},\"type\":\"table\"}],\"barpolar\":[{\"marker\":{\"line\":{\"color\":\"#E5ECF6\",\"width\":0.5},\"pattern\":{\"fillmode\":\"overlay\",\"size\":10,\"solidity\":0.2}},\"type\":\"barpolar\"}],\"pie\":[{\"automargin\":true,\"type\":\"pie\"}]},\"layout\":{\"autotypenumbers\":\"strict\",\"colorway\":[\"#636efa\",\"#EF553B\",\"#00cc96\",\"#ab63fa\",\"#FFA15A\",\"#19d3f3\",\"#FF6692\",\"#B6E880\",\"#FF97FF\",\"#FECB52\"],\"font\":{\"color\":\"#2a3f5f\"},\"hovermode\":\"closest\",\"hoverlabel\":{\"align\":\"left\"},\"paper_bgcolor\":\"white\",\"plot_bgcolor\":\"#E5ECF6\",\"polar\":{\"bgcolor\":\"#E5ECF6\",\"angularaxis\":{\"gridcolor\":\"white\",\"linecolor\":\"white\",\"ticks\":\"\"},\"radialaxis\":{\"gridcolor\":\"white\",\"linecolor\":\"white\",\"ticks\":\"\"}},\"ternary\":{\"bgcolor\":\"#E5ECF6\",\"aaxis\":{\"gridcolor\":\"white\",\"linecolor\":\"white\",\"ticks\":\"\"},\"baxis\":{\"gridcolor\":\"white\",\"linecolor\":\"white\",\"ticks\":\"\"},\"caxis\":{\"gridcolor\":\"white\",\"linecolor\":\"white\",\"ticks\":\"\"}},\"coloraxis\":{\"colorbar\":{\"outlinewidth\":0,\"ticks\":\"\"}},\"colorscale\":{\"sequential\":[[0.0,\"#0d0887\"],[0.1111111111111111,\"#46039f\"],[0.2222222222222222,\"#7201a8\"],[0.3333333333333333,\"#9c179e\"],[0.4444444444444444,\"#bd3786\"],[0.5555555555555556,\"#d8576b\"],[0.6666666666666666,\"#ed7953\"],[0.7777777777777778,\"#fb9f3a\"],[0.8888888888888888,\"#fdca26\"],[1.0,\"#f0f921\"]],\"sequentialminus\":[[0.0,\"#0d0887\"],[0.1111111111111111,\"#46039f\"],[0.2222222222222222,\"#7201a8\"],[0.3333333333333333,\"#9c179e\"],[0.4444444444444444,\"#bd3786\"],[0.5555555555555556,\"#d8576b\"],[0.6666666666666666,\"#ed7953\"],[0.7777777777777778,\"#fb9f3a\"],[0.8888888888888888,\"#fdca26\"],[1.0,\"#f0f921\"]],\"diverging\":[[0,\"#8e0152\"],[0.1,\"#c51b7d\"],[0.2,\"#de77ae\"],[0.3,\"#f1b6da\"],[0.4,\"#fde0ef\"],[0.5,\"#f7f7f7\"],[0.6,\"#e6f5d0\"],[0.7,\"#b8e186\"],[0.8,\"#7fbc41\"],[0.9,\"#4d9221\"],[1,\"#276419\"]]},\"xaxis\":{\"gridcolor\":\"white\",\"linecolor\":\"white\",\"ticks\":\"\",\"title\":{\"standoff\":15},\"zerolinecolor\":\"white\",\"automargin\":true,\"zerolinewidth\":2},\"yaxis\":{\"gridcolor\":\"white\",\"linecolor\":\"white\",\"ticks\":\"\",\"title\":{\"standoff\":15},\"zerolinecolor\":\"white\",\"automargin\":true,\"zerolinewidth\":2},\"scene\":{\"xaxis\":{\"backgroundcolor\":\"#E5ECF6\",\"gridcolor\":\"white\",\"linecolor\":\"white\",\"showbackground\":true,\"ticks\":\"\",\"zerolinecolor\":\"white\",\"gridwidth\":2},\"yaxis\":{\"backgroundcolor\":\"#E5ECF6\",\"gridcolor\":\"white\",\"linecolor\":\"white\",\"showbackground\":true,\"ticks\":\"\",\"zerolinecolor\":\"white\",\"gridwidth\":2},\"zaxis\":{\"backgroundcolor\":\"#E5ECF6\",\"gridcolor\":\"white\",\"linecolor\":\"white\",\"showbackground\":true,\"ticks\":\"\",\"zerolinecolor\":\"white\",\"gridwidth\":2}},\"shapedefaults\":{\"line\":{\"color\":\"#2a3f5f\"}},\"annotationdefaults\":{\"arrowcolor\":\"#2a3f5f\",\"arrowhead\":0,\"arrowwidth\":1},\"geo\":{\"bgcolor\":\"white\",\"landcolor\":\"#E5ECF6\",\"subunitcolor\":\"white\",\"showland\":true,\"showlakes\":true,\"lakecolor\":\"white\"},\"title\":{\"x\":0.05},\"mapbox\":{\"style\":\"light\"}}},\"title\":{\"text\":\"Sankey Diagram \\u2014 Manner_of_Collision: Angle\"},\"font\":{\"size\":12},\"updatemenus\":[{\"buttons\":[{\"args\":[{\"link.source\":[[8,8,8,8,8,3,5,1]],\"link.target\":[[4,0,7,2,6,8,8,8]],\"link.value\":[[0.9760200878844947,158.464867127014,11.041222012973424,303.74120108809376,17.346223059217408,80.01481481481481,242.54237288135593,169.01234567901233]],\"link.color\":[\"lightgray\"],\"node.label\":[[\"Non-fatal injury\",\"SOMERVILLE\",\"Property damage only (none injured)\",\"BOSTON\",\"Fatal injury\",\"CAMBRIDGE\",\"Unknown\",\"Not Reported\",\"Angle\"]],\"node.color\":[[\"#FF6347\",\"#FF6347\",\"#FF6347\",\"#FF6347\",\"#FF6347\",\"#FF6347\",\"#FF6347\",\"#FF6347\",\"#FF6347\"]]},{\"title\":\"Sankey Diagram \\u2014 Manner_of_Collision: Angle\"}],\"label\":\"Angle\",\"method\":\"update\"},{\"args\":[{\"link.source\":[[3,4,0,0,0,0,2]],\"link.target\":[[0,0,1,6,7,5,0]],\"link.value\":[[7.274074074074075,0.0847457627118644,2.325925925925926,0.4,3.0526469972797656,1.7037037037037037,0.12345679012345678]],\"link.color\":[\"lightgray\"],\"node.label\":[[\"Front to Front\",\"Non-fatal injury\",\"SOMERVILLE\",\"BOSTON\",\"CAMBRIDGE\",\"Unknown\",\"Not Reported\",\"Property damage only (none injured)\"]],\"node.color\":[[\"#FF6347\",\"#FF6347\",\"#FF6347\",\"#FF6347\",\"#FF6347\",\"#FF6347\",\"#FF6347\",\"#FF6347\"]]},{\"title\":\"Sankey Diagram \\u2014 Manner_of_Collision: Front to Front\"}],\"label\":\"Front to Front\",\"method\":\"update\"},{\"args\":[{\"link.source\":[[2,4,0,0,0,0,0]],\"link.target\":[[0,0,3,1,6,7,5]],\"link.value\":[[9.837037037037037,0.3389830508474576,0.014814814814814815,2.7472693032015068,0.4,4.806528562460766,2.2074074074074077]],\"link.color\":[\"lightgray\"],\"node.label\":[[\"Front to Rear\",\"Non-fatal injury\",\"BOSTON\",\"Fatal injury\",\"CAMBRIDGE\",\"Unknown\",\"Not Reported\",\"Property damage only (none injured)\"]],\"node.color\":[[\"#FF6347\",\"#FF6347\",\"#FF6347\",\"#FF6347\",\"#FF6347\",\"#FF6347\",\"#FF6347\",\"#FF6347\"]]},{\"title\":\"Sankey Diagram \\u2014 Manner_of_Collision: Front to Rear\"}],\"label\":\"Front to Rear\",\"method\":\"update\"},{\"args\":[{\"link.source\":[[3,5,2,2,2,2,2,1]],\"link.target\":[[2,2,4,0,7,8,6,2]],\"link.value\":[[12.814814814814815,25.677966101694913,0.5234567901234568,31.48558275789914,1.1020297133291483,30.880895584850386,2.4020506382088302,27.901234567901234]],\"link.color\":[\"lightgray\"],\"node.label\":[[\"Non-fatal injury\",\"SOMERVILLE\",\"Head-on\",\"BOSTON\",\"Fatal injury\",\"CAMBRIDGE\",\"Unknown\",\"Not Reported\",\"Property damage only (none injured)\"]],\"node.color\":[[\"#FF6347\",\"#FF6347\",\"#FF6347\",\"#FF6347\",\"#FF6347\",\"#FF6347\",\"#FF6347\",\"#FF6347\",\"#FF6347\"]]},{\"title\":\"Sankey Diagram \\u2014 Manner_of_Collision: Head-on\"}],\"label\":\"Head-on\",\"method\":\"update\"},{\"args\":[{\"link.source\":[[3,5,2,2,2,2,2,1]],\"link.target\":[[2,2,4,0,7,8,6,2]],\"link.value\":[[26.133333333333333,0.6779661016949152,0.5884494664155681,8.55053358443189,0.32592592592592595,13.67231638418079,5.77283950617284,2.0987654320987654]],\"link.color\":[\"lightgray\"],\"node.label\":[[\"Non-fatal injury\",\"SOMERVILLE\",\"Not reported\",\"BOSTON\",\"Fatal injury\",\"CAMBRIDGE\",\"Unknown\",\"Not Reported\",\"Property damage only (none injured)\"]],\"node.color\":[[\"#FF6347\",\"#FF6347\",\"#FF6347\",\"#FF6347\",\"#FF6347\",\"#FF6347\",\"#FF6347\",\"#FF6347\",\"#FF6347\"]]},{\"title\":\"Sankey Diagram \\u2014 Manner_of_Collision: Not reported\"}],\"label\":\"Not reported\",\"method\":\"update\"},{\"args\":[{\"link.source\":[[3,0,0,0,0]],\"link.target\":[[0,1,4,5,2]],\"link.value\":[[1.348148148148148,0.2962962962962963,0.014814814814814815,0.7407407407407408,0.2962962962962963]],\"link.color\":[\"lightgray\"],\"node.label\":[[\"Rear to Side\",\"Non-fatal injury\",\"Unknown\",\"BOSTON\",\"Not Reported\",\"Property damage only (none injured)\"]],\"node.color\":[[\"#FF6347\",\"#FF6347\",\"#FF6347\",\"#FF6347\",\"#FF6347\",\"#FF6347\"]]},{\"title\":\"Sankey Diagram \\u2014 Manner_of_Collision: Rear to Side\"}],\"label\":\"Rear to Side\",\"method\":\"update\"},{\"args\":[{\"link.source\":[[2,4,8,8,8,8,8,1]],\"link.target\":[[8,8,3,0,6,7,5,8]],\"link.value\":[[169.11111111111111,158.72881355932202,0.08888888888888889,119.68244402594685,7.098932831136221,340.2996442770454,18.43297761037874,157.77777777777777]],\"link.color\":[\"lightgray\"],\"node.label\":[[\"Non-fatal injury\",\"SOMERVILLE\",\"BOSTON\",\"Fatal injury\",\"CAMBRIDGE\",\"Unknown\",\"Not Reported\",\"Property damage only (none injured)\",\"Rear-end\"]],\"node.color\":[[\"#FF6347\",\"#FF6347\",\"#FF6347\",\"#FF6347\",\"#FF6347\",\"#FF6347\",\"#FF6347\",\"#FF6347\",\"#FF6347\"]]},{\"title\":\"Sankey Diagram \\u2014 Manner_of_Collision: Rear-end\"}],\"label\":\"Rear-end\",\"method\":\"update\"},{\"args\":[{\"link.source\":[[3,4,1,1,1,1,2]],\"link.target\":[[1,1,0,6,7,5,1]],\"link.value\":[[1.8814814814814815,7.033898305084746,2.1709144172421007,0.09956057752667921,9.308558275789913,1.1635070098346934,3.82716049382716]],\"link.color\":[\"lightgray\"],\"node.label\":[[\"Non-fatal injury\",\"Rear-to-rear\",\"SOMERVILLE\",\"BOSTON\",\"CAMBRIDGE\",\"Unknown\",\"Not Reported\",\"Property damage only (none injured)\"]],\"node.color\":[[\"#FF6347\",\"#FF6347\",\"#FF6347\",\"#FF6347\",\"#FF6347\",\"#FF6347\",\"#FF6347\",\"#FF6347\"]]},{\"title\":\"Sankey Diagram \\u2014 Manner_of_Collision: Rear-to-rear\"}],\"label\":\"Rear-to-rear\",\"method\":\"update\"},{\"args\":[{\"link.source\":[[3,5,1,2,2,2,2,2]],\"link.target\":[[2,2,2,4,0,7,8,6]],\"link.value\":[[10.488888888888889,28.135593220338983,17.65432098765432,0.014814814814814815,11.436492990165306,1.830968821929274,36.79204854572086,6.204477924251935]],\"link.color\":[\"lightgray\"],\"node.label\":[[\"Non-fatal injury\",\"SOMERVILLE\",\"Sideswipe, opposite direction\",\"BOSTON\",\"Fatal injury\",\"CAMBRIDGE\",\"Unknown\",\"Not Reported\",\"Property damage only (none injured)\"]],\"node.color\":[[\"#FF6347\",\"#FF6347\",\"#FF6347\",\"#FF6347\",\"#FF6347\",\"#FF6347\",\"#FF6347\",\"#FF6347\",\"#FF6347\"]]},{\"title\":\"Sankey Diagram \\u2014 Manner_of_Collision: Sideswipe, opposite direction\"}],\"label\":\"Sideswipe, opposite direction\",\"method\":\"update\"},{\"args\":[{\"link.source\":[[2,4,1,6,6,6,6,6]],\"link.target\":[[6,6,6,3,0,7,8,5]],\"link.value\":[[92.37037037037038,240.9322033898305,112.34567901234567,0.15881983678593847,54.437706633186856,25.67964009206947,315.88918183720443,49.34463276836158]],\"link.color\":[\"lightgray\"],\"node.label\":[[\"Non-fatal injury\",\"SOMERVILLE\",\"BOSTON\",\"Fatal injury\",\"CAMBRIDGE\",\"Unknown\",\"Sideswipe, same direction\",\"Not Reported\",\"Property damage only (none injured)\"]],\"node.color\":[[\"#FF6347\",\"#FF6347\",\"#FF6347\",\"#FF6347\",\"#FF6347\",\"#FF6347\",\"#FF6347\",\"#FF6347\",\"#FF6347\"]]},{\"title\":\"Sankey Diagram \\u2014 Manner_of_Collision: Sideswipe, same direction\"}],\"label\":\"Sideswipe, same direction\",\"method\":\"update\"},{\"args\":[{\"link.source\":[[3,5,2,0,0,0,0,0]],\"link.target\":[[0,0,0,4,1,7,8,6]],\"link.value\":[[91.17037037037038,109.06779661016948,105.30864197530863,1.8779661016949152,107.86888470391295,6.842644904791797,173.43435865243774,15.52295459301109]],\"link.color\":[\"lightgray\"],\"node.label\":[[\"Single vehicle crash\",\"Non-fatal injury\",\"SOMERVILLE\",\"BOSTON\",\"Fatal injury\",\"CAMBRIDGE\",\"Unknown\",\"Not Reported\",\"Property damage only (none injured)\"]],\"node.color\":[[\"#FF6347\",\"#FF6347\",\"#FF6347\",\"#FF6347\",\"#FF6347\",\"#FF6347\",\"#FF6347\",\"#FF6347\",\"#FF6347\"]]},{\"title\":\"Sankey Diagram \\u2014 Manner_of_Collision: Single vehicle crash\"}],\"label\":\"Single vehicle crash\",\"method\":\"update\"},{\"args\":[{\"link.source\":[[2,4,1,5,5,5,5,5]],\"link.target\":[[5,5,5,3,0,6,7,5]],\"link.value\":[[5.911111111111111,91.69491525423729,8.148148148148147,0.014814814814814815,9.10387110274116,25.769742623979912,30.688093743460975,40.17765222849968]],\"link.color\":[\"lightgray\"],\"node.label\":[[\"Non-fatal injury\",\"SOMERVILLE\",\"BOSTON\",\"Fatal injury\",\"CAMBRIDGE\",\"Unknown\",\"Not Reported\",\"Property damage only (none injured)\"]],\"node.color\":[[\"#FF6347\",\"#FF6347\",\"#FF6347\",\"#FF6347\",\"#FF6347\",\"#FF6347\",\"#FF6347\",\"#FF6347\"]]},{\"title\":\"Sankey Diagram \\u2014 Manner_of_Collision: Unknown\"}],\"label\":\"Unknown\",\"method\":\"update\"}],\"direction\":\"down\",\"showactive\":true,\"x\":1.1,\"xanchor\":\"left\",\"y\":1.15,\"yanchor\":\"top\"}]},                        {\"responsive\": true}                    ).then(function(){\n",
       "                            \n",
       "var gd = document.getElementById('7dc0f232-5179-4135-945c-2a5ed2e87a90');\n",
       "var x = new MutationObserver(function (mutations, observer) {{\n",
       "        var display = window.getComputedStyle(gd).display;\n",
       "        if (!display || display === 'none') {{\n",
       "            console.log([gd, 'removed!']);\n",
       "            Plotly.purge(gd);\n",
       "            observer.disconnect();\n",
       "        }}\n",
       "}});\n",
       "\n",
       "// Listen for the removal of the full notebook cells\n",
       "var notebookContainer = gd.closest('#notebook-container');\n",
       "if (notebookContainer) {{\n",
       "    x.observe(notebookContainer, {childList: true});\n",
       "}}\n",
       "\n",
       "// Listen for the clearing of the current output cell\n",
       "var outputEl = gd.closest('.output');\n",
       "if (outputEl) {{\n",
       "    x.observe(outputEl, {childList: true});\n",
       "}}\n",
       "\n",
       "                        })                };                });            </script>        </div>"
      ]
     },
     "metadata": {},
     "output_type": "display_data"
    }
   ],
   "source": [
    "# makes the saneky diagram\n",
    "make_sankey(\n",
    "    data,\n",
    "    'City_Town_Name',\n",
    "    'Manner_of_Collision',\n",
    "    'Crash_Severity',\n",
    "    vals='Scaled_Weight',\n",
    "    dropdown_col='Manner_of_Collision'\n",
    ")\n",
    "\n"
   ]
  },
  {
   "cell_type": "code",
   "execution_count": null,
   "id": "fad657ee",
   "metadata": {},
   "outputs": [],
   "source": []
  },
  {
   "cell_type": "code",
   "execution_count": null,
   "id": "ed3ae194",
   "metadata": {},
   "outputs": [],
   "source": []
  },
  {
   "cell_type": "code",
   "execution_count": null,
   "id": "1fc54325",
   "metadata": {},
   "outputs": [],
   "source": []
  }
 ],
 "metadata": {
  "kernelspec": {
   "display_name": "Python 3 (ipykernel)",
   "language": "python",
   "name": "python3"
  },
  "language_info": {
   "codemirror_mode": {
    "name": "ipython",
    "version": 3
   },
   "file_extension": ".py",
   "mimetype": "text/x-python",
   "name": "python",
   "nbconvert_exporter": "python",
   "pygments_lexer": "ipython3",
   "version": "3.11.5"
  }
 },
 "nbformat": 4,
 "nbformat_minor": 5
}
